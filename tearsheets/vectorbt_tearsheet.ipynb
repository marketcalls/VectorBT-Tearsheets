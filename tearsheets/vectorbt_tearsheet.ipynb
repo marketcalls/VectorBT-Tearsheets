{
 "cells": [
  {
   "cell_type": "code",
   "execution_count": 3,
   "id": "bc8cb32c",
   "metadata": {},
   "outputs": [
    {
     "name": "stderr",
     "output_type": "stream",
     "text": [
      "C:\\Users\\Admin1\\AppData\\Local\\Temp\\ipykernel_86680\\3416737710.py:64: FutureWarning:\n",
      "\n",
      "The default fill_method='pad' in Series.pct_change is deprecated and will be removed in a future version. Either fill in any non-leading NA values prior to calling pct_change or specify 'fill_method=None' to not fill NA values.\n",
      "\n"
     ]
    },
    {
     "name": "stdout",
     "output_type": "stream",
     "text": [
      "\n",
      "✅  Tear‑sheet saved to reliance_ema_tearsheet.html\n"
     ]
    }
   ],
   "source": [
    "###############################################################################\n",
    "# VectorBT strategy + QuantStats tear‑sheet (RELIANCE.NS vs NIFTY‑50)\n",
    "###############################################################################\n",
    "import warnings, yfinance as yf, quantstats as qs, vectorbt as vbt\n",
    "import pandas as pd\n",
    "import numpy  as np\n",
    "from pandas.core.resample import Resampler\n",
    "\n",
    "# ── 1. one‑time pandas‑2.2 axis‑kwarg patch (skip if already in your session) ──\n",
    "if not getattr(Resampler, \"_qs_axis_patch\", False):\n",
    "    _orig_sum = Resampler.sum\n",
    "    Resampler.sum = lambda self, *a, **k: _orig_sum(self, *a)   # drop axis kwarg\n",
    "    Resampler._qs_axis_patch = True\n",
    "# ───────────────────────────────────────────────────────────────────────────────\n",
    "\n",
    "warnings.filterwarnings(\n",
    "    \"ignore\",\n",
    "    message=\"A value is trying to be set on a copy of a DataFrame or Series\",\n",
    "    category=FutureWarning,\n",
    "    module=r\"quantstats\\._plotting\\.core\"\n",
    ")\n",
    "\n",
    "# ── 2. pull price data (RELIANCE & NIFTY‑50) ──────────────────────────────────\n",
    "tickers  = [\"RELIANCE.NS\", \"^NSEI\"]\n",
    "start_dt = \"2018-01-01\"\n",
    "\n",
    "raw = yf.download(tickers, start=start_dt, progress=False)\n",
    "\n",
    "def get_close(df, ticker):\n",
    "    lvl0 = df.columns.get_level_values(0)\n",
    "    col0 = \"Adj Close\" if \"Adj Close\" in lvl0 else \"Close\"\n",
    "    return df.xs(col0, level=0, axis=1)[ticker]\n",
    "\n",
    "rel_close  = get_close(raw, \"RELIANCE.NS\")\n",
    "nifty_close = get_close(raw, \"^NSEI\")\n",
    "\n",
    "# ── 3. run EMA‑crossover strategy in vectorbt ─────────────────────────────────\n",
    "short_ema = vbt.MA.run(rel_close, window=2,  ewm=True, short_name='fast')\n",
    "long_ema  = vbt.MA.run(rel_close, window=27, ewm=True, short_name='slow')\n",
    "\n",
    "entries = short_ema.ma_crossed_above(long_ema)\n",
    "exits   = short_ema.ma_crossed_below(long_ema)\n",
    "\n",
    "initial_capital = 1_000_000\n",
    "\n",
    "pf = vbt.Portfolio.from_signals(     # <‑‑ fix is right here\n",
    "    close            = rel_close,    # ① supply price series via `close=…`  (or positional)\n",
    "    entries          = entries,\n",
    "    exits            = exits,\n",
    "    direction        = 'longonly',\n",
    "    size_type        = 'percent',\n",
    "    size             = 1.00,         # 100 % of equity on each entry\n",
    "    fees             = 0.0012,\n",
    "    init_cash        = initial_capital,\n",
    "    freq             = '1D',\n",
    "    min_size         = 1,\n",
    "    size_granularity = 1\n",
    ")\n",
    "\n",
    "\n",
    "# ── 4. build QuantStats tear‑sheet from PF returns ────────────────────────────\n",
    "# • pf.returns is already daily; drop the first NaN to placate QuantStats\n",
    "strat_ret  = pf.returns().dropna()\n",
    "bench_ret  = nifty_close.pct_change().dropna()\n",
    "\n",
    "# align by inner‑join so both Series have identical dates\n",
    "strat_ret, bench_ret = strat_ret.align(bench_ret, join=\"inner\")\n",
    "\n",
    "qs.reports.html(\n",
    "    returns   = strat_ret,\n",
    "    benchmark = bench_ret,\n",
    "    title     = \"EMA‑Crossover on RELIANCE.NS vs NIFTY 50\",\n",
    "    output    = \"reliance_ema_tearsheet.html\"\n",
    ")\n",
    "\n",
    "print(\"\\n✅  Tear‑sheet saved to reliance_ema_tearsheet.html\")\n"
   ]
  },
  {
   "cell_type": "code",
   "execution_count": 4,
   "id": "b80d4bd0",
   "metadata": {},
   "outputs": [
    {
     "name": "stdout",
     "output_type": "stream",
     "text": [
      "Backtest Stats:\n",
      "Start                               2018-01-01 00:00:00\n",
      "End                                 2025-05-06 00:00:00\n",
      "Period                               1811 days 00:00:00\n",
      "Start Value                                   1000000.0\n",
      "End Value                                 2324349.33929\n",
      "Total Return [%]                             132.434934\n",
      "Benchmark Return [%]                         246.215768\n",
      "Max Gross Exposure [%]                        99.999436\n",
      "Total Fees Paid                            312602.96497\n",
      "Max Drawdown [%]                              34.219724\n",
      "Max Drawdown Duration                 304 days 00:00:00\n",
      "Total Trades                                         73\n",
      "Total Closed Trades                                  72\n",
      "Total Open Trades                                     1\n",
      "Open Trade PnL                            294484.453387\n",
      "Win Rate [%]                                  22.222222\n",
      "Best Trade [%]                                81.771093\n",
      "Worst Trade [%]                               -7.716161\n",
      "Avg Winning Trade [%]                         13.988043\n",
      "Avg Losing Trade [%]                          -2.133354\n",
      "Avg Winning Trade Duration             45 days 01:30:00\n",
      "Avg Losing Trade Duration     4 days 23:34:17.142857142\n",
      "Profit Factor                                  1.469474\n",
      "Expectancy                                 14303.678971\n",
      "Sharpe Ratio                                   0.853557\n",
      "Calmar Ratio                                   0.541487\n",
      "Omega Ratio                                    1.175324\n",
      "Sortino Ratio                                   1.34551\n",
      "dtype: object\n"
     ]
    }
   ],
   "source": [
    "stats = pf.stats()\n",
    "print(\"Backtest Stats:\")\n",
    "print(stats)\n"
   ]
  }
 ],
 "metadata": {
  "kernelspec": {
   "display_name": "venv",
   "language": "python",
   "name": "python3"
  },
  "language_info": {
   "codemirror_mode": {
    "name": "ipython",
    "version": 3
   },
   "file_extension": ".py",
   "mimetype": "text/x-python",
   "name": "python",
   "nbconvert_exporter": "python",
   "pygments_lexer": "ipython3",
   "version": "3.12.8"
  }
 },
 "nbformat": 4,
 "nbformat_minor": 5
}
